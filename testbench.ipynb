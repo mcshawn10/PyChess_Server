{
 "cells": [
  {
   "cell_type": "code",
   "execution_count": 5,
   "metadata": {},
   "outputs": [
    {
     "data": {
      "text/plain": [
       "[(6, 0),\n",
       " (7, 0),\n",
       " (6, 1),\n",
       " (7, 1),\n",
       " (6, 2),\n",
       " (7, 2),\n",
       " (6, 3),\n",
       " (7, 3),\n",
       " (6, 4),\n",
       " (7, 4),\n",
       " (6, 5),\n",
       " (7, 5),\n",
       " (6, 6),\n",
       " (7, 6),\n",
       " (6, 7),\n",
       " (7, 7)]"
      ]
     },
     "execution_count": 5,
     "metadata": {},
     "output_type": "execute_result"
    }
   ],
   "source": [
    "availableWhitePieces = [(i,j) for j in range(8) for i in range(6,8)]\n",
    "#availableWhitePieces = set(availableWhitePieces)\n",
    "availableWhitePieces"
   ]
  },
  {
   "cell_type": "code",
   "execution_count": 7,
   "metadata": {},
   "outputs": [
    {
     "data": {
      "text/plain": [
       "[(0, 0),\n",
       " (1, 0),\n",
       " (0, 1),\n",
       " (1, 1),\n",
       " (0, 2),\n",
       " (1, 2),\n",
       " (0, 3),\n",
       " (1, 3),\n",
       " (0, 4),\n",
       " (1, 4),\n",
       " (0, 5),\n",
       " (1, 5),\n",
       " (0, 6),\n",
       " (1, 6),\n",
       " (0, 7),\n",
       " (1, 7)]"
      ]
     },
     "execution_count": 7,
     "metadata": {},
     "output_type": "execute_result"
    }
   ],
   "source": [
    "availableBlackPieces = [(i,j) for j in range(8) for i in range(2)]\n",
    "availableBlackPieces"
   ]
  }
 ],
 "metadata": {
  "kernelspec": {
   "display_name": "Python 3",
   "language": "python",
   "name": "python3"
  },
  "language_info": {
   "codemirror_mode": {
    "name": "ipython",
    "version": 3
   },
   "file_extension": ".py",
   "mimetype": "text/x-python",
   "name": "python",
   "nbconvert_exporter": "python",
   "pygments_lexer": "ipython3",
   "version": "3.11.0"
  },
  "orig_nbformat": 4
 },
 "nbformat": 4,
 "nbformat_minor": 2
}
